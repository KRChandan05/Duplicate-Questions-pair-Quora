{
 "cells": [
  {
   "cell_type": "code",
   "execution_count": 1,
   "id": "2115e795",
   "metadata": {},
   "outputs": [],
   "source": [
    "import numpy as np\n",
    "import pandas as pd\n",
    "import matplotlib.pyplot as plt\n",
    "import seaborn as sns"
   ]
  },
  {
   "cell_type": "code",
   "execution_count": 2,
   "id": "91b2c11a",
   "metadata": {},
   "outputs": [],
   "source": [
    "df = pd.read_csv('train.csv')"
   ]
  },
  {
   "cell_type": "code",
   "execution_count": 7,
   "id": "a475a2d7",
   "metadata": {},
   "outputs": [
    {
     "data": {
      "text/html": [
       "<div>\n",
       "<style scoped>\n",
       "    .dataframe tbody tr th:only-of-type {\n",
       "        vertical-align: middle;\n",
       "    }\n",
       "\n",
       "    .dataframe tbody tr th {\n",
       "        vertical-align: top;\n",
       "    }\n",
       "\n",
       "    .dataframe thead th {\n",
       "        text-align: right;\n",
       "    }\n",
       "</style>\n",
       "<table border=\"1\" class=\"dataframe\">\n",
       "  <thead>\n",
       "    <tr style=\"text-align: right;\">\n",
       "      <th></th>\n",
       "      <th>id</th>\n",
       "      <th>qid1</th>\n",
       "      <th>qid2</th>\n",
       "      <th>question1</th>\n",
       "      <th>question2</th>\n",
       "      <th>is_duplicate</th>\n",
       "    </tr>\n",
       "  </thead>\n",
       "  <tbody>\n",
       "    <tr>\n",
       "      <th>217831</th>\n",
       "      <td>217831</td>\n",
       "      <td>152922</td>\n",
       "      <td>84397</td>\n",
       "      <td>What do you think is wrong with Indian schools...</td>\n",
       "      <td>What is wrong with Indian Education System?</td>\n",
       "      <td>1</td>\n",
       "    </tr>\n",
       "    <tr>\n",
       "      <th>332454</th>\n",
       "      <td>332454</td>\n",
       "      <td>263242</td>\n",
       "      <td>221944</td>\n",
       "      <td>Is margarine healthier than butter?</td>\n",
       "      <td>Is ghee healthier than butter?</td>\n",
       "      <td>0</td>\n",
       "    </tr>\n",
       "    <tr>\n",
       "      <th>110986</th>\n",
       "      <td>110986</td>\n",
       "      <td>181876</td>\n",
       "      <td>181877</td>\n",
       "      <td>What does a \"metro area\" mean?</td>\n",
       "      <td>What type of services can you get in cities an...</td>\n",
       "      <td>0</td>\n",
       "    </tr>\n",
       "    <tr>\n",
       "      <th>247844</th>\n",
       "      <td>247844</td>\n",
       "      <td>361143</td>\n",
       "      <td>361144</td>\n",
       "      <td>What are some books to learn English editing?</td>\n",
       "      <td>What is books for learning English?</td>\n",
       "      <td>0</td>\n",
       "    </tr>\n",
       "    <tr>\n",
       "      <th>355485</th>\n",
       "      <td>355485</td>\n",
       "      <td>484721</td>\n",
       "      <td>484722</td>\n",
       "      <td>Why won't my iPhone 5 connect to Wi-Fi network...</td>\n",
       "      <td>How do you fix an iPhone 5 that won't connect ...</td>\n",
       "      <td>1</td>\n",
       "    </tr>\n",
       "    <tr>\n",
       "      <th>384699</th>\n",
       "      <td>384699</td>\n",
       "      <td>516760</td>\n",
       "      <td>516761</td>\n",
       "      <td>Instead of turning the front wheel of cars why...</td>\n",
       "      <td>Why do the front wheels of cars turn rather th...</td>\n",
       "      <td>0</td>\n",
       "    </tr>\n",
       "    <tr>\n",
       "      <th>60227</th>\n",
       "      <td>60227</td>\n",
       "      <td>105352</td>\n",
       "      <td>105353</td>\n",
       "      <td>What purpose does music serve in films?</td>\n",
       "      <td>What alcohol was served in Jazz clubs? How did...</td>\n",
       "      <td>0</td>\n",
       "    </tr>\n",
       "    <tr>\n",
       "      <th>286450</th>\n",
       "      <td>286450</td>\n",
       "      <td>407037</td>\n",
       "      <td>407038</td>\n",
       "      <td>How accurately does Scott Patterson's The Quan...</td>\n",
       "      <td>How much money do quant traders control?</td>\n",
       "      <td>0</td>\n",
       "    </tr>\n",
       "    <tr>\n",
       "      <th>209153</th>\n",
       "      <td>209153</td>\n",
       "      <td>130074</td>\n",
       "      <td>15862</td>\n",
       "      <td>What informations do I need from a client to b...</td>\n",
       "      <td>What questions do you ask clients that need a ...</td>\n",
       "      <td>1</td>\n",
       "    </tr>\n",
       "    <tr>\n",
       "      <th>86088</th>\n",
       "      <td>86088</td>\n",
       "      <td>145226</td>\n",
       "      <td>145227</td>\n",
       "      <td>How do I cut off from a friend without hurting...</td>\n",
       "      <td>How can I cut off from all my friends without ...</td>\n",
       "      <td>1</td>\n",
       "    </tr>\n",
       "  </tbody>\n",
       "</table>\n",
       "</div>"
      ],
      "text/plain": [
       "            id    qid1    qid2  \\\n",
       "217831  217831  152922   84397   \n",
       "332454  332454  263242  221944   \n",
       "110986  110986  181876  181877   \n",
       "247844  247844  361143  361144   \n",
       "355485  355485  484721  484722   \n",
       "384699  384699  516760  516761   \n",
       "60227    60227  105352  105353   \n",
       "286450  286450  407037  407038   \n",
       "209153  209153  130074   15862   \n",
       "86088    86088  145226  145227   \n",
       "\n",
       "                                                question1  \\\n",
       "217831  What do you think is wrong with Indian schools...   \n",
       "332454                Is margarine healthier than butter?   \n",
       "110986                     What does a \"metro area\" mean?   \n",
       "247844      What are some books to learn English editing?   \n",
       "355485  Why won't my iPhone 5 connect to Wi-Fi network...   \n",
       "384699  Instead of turning the front wheel of cars why...   \n",
       "60227             What purpose does music serve in films?   \n",
       "286450  How accurately does Scott Patterson's The Quan...   \n",
       "209153  What informations do I need from a client to b...   \n",
       "86088   How do I cut off from a friend without hurting...   \n",
       "\n",
       "                                                question2  is_duplicate  \n",
       "217831        What is wrong with Indian Education System?             1  \n",
       "332454                     Is ghee healthier than butter?             0  \n",
       "110986  What type of services can you get in cities an...             0  \n",
       "247844                What is books for learning English?             0  \n",
       "355485  How do you fix an iPhone 5 that won't connect ...             1  \n",
       "384699  Why do the front wheels of cars turn rather th...             0  \n",
       "60227   What alcohol was served in Jazz clubs? How did...             0  \n",
       "286450           How much money do quant traders control?             0  \n",
       "209153  What questions do you ask clients that need a ...             1  \n",
       "86088   How can I cut off from all my friends without ...             1  "
      ]
     },
     "execution_count": 7,
     "metadata": {},
     "output_type": "execute_result"
    }
   ],
   "source": [
    "df.sample(10)"
   ]
  },
  {
   "cell_type": "code",
   "execution_count": 4,
   "id": "95cf489b",
   "metadata": {},
   "outputs": [
    {
     "data": {
      "text/plain": [
       "(404290, 6)"
      ]
     },
     "execution_count": 4,
     "metadata": {},
     "output_type": "execute_result"
    }
   ],
   "source": [
    "df.shape"
   ]
  },
  {
   "cell_type": "code",
   "execution_count": 6,
   "id": "e97cfa92",
   "metadata": {},
   "outputs": [
    {
     "name": "stdout",
     "output_type": "stream",
     "text": [
      "<class 'pandas.core.frame.DataFrame'>\n",
      "RangeIndex: 404290 entries, 0 to 404289\n",
      "Data columns (total 6 columns):\n",
      " #   Column        Non-Null Count   Dtype \n",
      "---  ------        --------------   ----- \n",
      " 0   id            404290 non-null  int64 \n",
      " 1   qid1          404290 non-null  int64 \n",
      " 2   qid2          404290 non-null  int64 \n",
      " 3   question1     404289 non-null  object\n",
      " 4   question2     404288 non-null  object\n",
      " 5   is_duplicate  404290 non-null  int64 \n",
      "dtypes: int64(4), object(2)\n",
      "memory usage: 18.5+ MB\n"
     ]
    }
   ],
   "source": [
    "df.info()"
   ]
  },
  {
   "cell_type": "code",
   "execution_count": 8,
   "id": "718c6156",
   "metadata": {},
   "outputs": [
    {
     "data": {
      "text/plain": [
       "id              0\n",
       "qid1            0\n",
       "qid2            0\n",
       "question1       1\n",
       "question2       2\n",
       "is_duplicate    0\n",
       "dtype: int64"
      ]
     },
     "execution_count": 8,
     "metadata": {},
     "output_type": "execute_result"
    }
   ],
   "source": [
    "df.isnull().sum()"
   ]
  },
  {
   "cell_type": "code",
   "execution_count": 9,
   "id": "d8ba853f",
   "metadata": {},
   "outputs": [
    {
     "data": {
      "text/plain": [
       "0"
      ]
     },
     "execution_count": 9,
     "metadata": {},
     "output_type": "execute_result"
    }
   ],
   "source": [
    "df.duplicated().sum()"
   ]
  },
  {
   "cell_type": "code",
   "execution_count": 12,
   "id": "aa17d1b6",
   "metadata": {},
   "outputs": [
    {
     "data": {
      "text/plain": [
       "0    255027\n",
       "1    149263\n",
       "Name: is_duplicate, dtype: int64"
      ]
     },
     "execution_count": 12,
     "metadata": {},
     "output_type": "execute_result"
    }
   ],
   "source": [
    "df.is_duplicate.value_counts()"
   ]
  },
  {
   "cell_type": "code",
   "execution_count": 13,
   "id": "6412a277",
   "metadata": {},
   "outputs": [
    {
     "data": {
      "text/plain": [
       "<AxesSubplot:ylabel='is_duplicate'>"
      ]
     },
     "execution_count": 13,
     "metadata": {},
     "output_type": "execute_result"
    },
    {
     "data": {
      "image/png": "[encoded data removed]",
      "text/plain": [
       "<Figure size 640x480 with 1 Axes>"
      ]
     },
     "metadata": {},
     "output_type": "display_data"
    }
   ],
   "source": [
    "df.is_duplicate.value_counts().plot(kind='pie',labels=['Not-duplicate','Duplicate'],autopct=\"%0.2f%%\")"
   ]
  },
  {
   "cell_type": "code",
   "execution_count": 17,
   "id": "ed4bab5d",
   "metadata": {},
   "outputs": [
    {
     "name": "stdout",
     "output_type": "stream",
     "text": [
      "Number of unique questions: 537933\n",
      "Number of questions getting repeated: 111780\n"
     ]
    }
   ],
   "source": [
    "# Repeated questions in data\n",
    "\n",
    "qid = pd.Series(df['qid1'].tolist() + df['qid2'].tolist())\n",
    "print('Number of unique questions:',np.unique(qid).shape[0])\n",
    "x = qid.value_counts()>1\n",
    "print('Number of questions getting repeated:',x[x].shape[0])"
   ]
  },
  {
   "cell_type": "code",
   "execution_count": 27,
   "id": "8a206ed4",
   "metadata": {},
   "outputs": [
    {
     "data": {
      "image/png": "[encoded data removed]",
      "text/plain": [
       "<Figure size 640x480 with 1 Axes>"
      ]
     },
     "metadata": {},
     "output_type": "display_data"
    }
   ],
   "source": [
    "#Repeated questions histogram\n",
    "plt.hist(qid.value_counts().values,bins=160)\n",
    "plt.yscale('log')\n",
    "plt.show()"
   ]
  },
  {
   "cell_type": "code",
   "execution_count": null,
   "id": "9900eeae",
   "metadata": {},
   "outputs": [],
   "source": []
  }
 ],
 "metadata": {
  "hide_input": false,
  "kernelspec": {
   "display_name": "Python 3 (ipykernel)",
   "language": "python",
   "name": "python3"
  },
  "language_info": {
   "codemirror_mode": {
    "name": "ipython",
    "version": 3
   },
   "file_extension": ".py",
   "mimetype": "text/x-python",
   "name": "python",
   "nbconvert_exporter": "python",
   "pygments_lexer": "ipython3",
   "version": "3.9.13"
  }
 },
 "nbformat": 4,
 "nbformat_minor": 5
}
